{
 "cells": [
  {
   "cell_type": "markdown",
   "metadata": {
    "colab_type": "text",
    "id": "CHT-m3CjG9ze"
   },
   "source": [
    "# **In this notebook, I will build a baseline model for predicting the aggregated demand from T+1 to T+5**"
   ]
  },
  {
   "cell_type": "code",
   "execution_count": 3,
   "metadata": {
    "colab": {
     "base_uri": "https://localhost:8080/",
     "height": 34
    },
    "colab_type": "code",
    "executionInfo": {
     "elapsed": 5158,
     "status": "ok",
     "timestamp": 1560063703276,
     "user": {
      "displayName": "Peng Seng (BfE Data Analytics Director)",
      "photoUrl": "",
      "userId": "03000862672762938356"
     },
     "user_tz": -480
    },
    "id": "GTVYjLRSG9zg",
    "outputId": "dbdad158-57ed-4a22-cf9a-2d9209d4da8c"
   },
   "outputs": [
    {
     "name": "stderr",
     "output_type": "stream",
     "text": [
      "Using TensorFlow backend.\n"
     ]
    }
   ],
   "source": [
    "import pandas as pd\n",
    "import numpy as np\n",
    "import geohash2\n",
    "import os\n",
    "import tensorflow as tf\n",
    "\n",
    "import keras \n",
    "from keras import backend as K\n",
    "from sklearn.model_selection import train_test_split\n",
    "import warnings\n",
    "warnings.filterwarnings(\"ignore\")\n",
    "tf.enable_eager_execution()"
   ]
  },
  {
   "cell_type": "code",
   "execution_count": null,
   "metadata": {
    "colab": {},
    "colab_type": "code",
    "id": "NpivAESAHVsv"
   },
   "outputs": [],
   "source": [
    "data_dir = '/home/angps/Documents/GrabChallenge/Traffic Management/Data'"
   ]
  },
  {
   "cell_type": "code",
   "execution_count": null,
   "metadata": {
    "colab": {},
    "colab_type": "code",
    "id": "3SzdAAF-G9zr"
   },
   "outputs": [],
   "source": [
    "df = pd.read_csv(os.path.join(data_dir,'cleaned_training.csv'))"
   ]
  },
  {
   "cell_type": "code",
   "execution_count": 5,
   "metadata": {
    "colab": {
     "base_uri": "https://localhost:8080/",
     "height": 204
    },
    "colab_type": "code",
    "executionInfo": {
     "elapsed": 9972,
     "status": "ok",
     "timestamp": 1560063709751,
     "user": {
      "displayName": "Peng Seng (BfE Data Analytics Director)",
      "photoUrl": "",
      "userId": "03000862672762938356"
     },
     "user_tz": -480
    },
    "id": "fVuAfIYSG9zw",
    "outputId": "a26aaca7-0d3d-441c-e22b-c3e5bab5e808"
   },
   "outputs": [
    {
     "data": {
      "text/html": [
       "<div>\n",
       "<style scoped>\n",
       "    .dataframe tbody tr th:only-of-type {\n",
       "        vertical-align: middle;\n",
       "    }\n",
       "\n",
       "    .dataframe tbody tr th {\n",
       "        vertical-align: top;\n",
       "    }\n",
       "\n",
       "    .dataframe thead th {\n",
       "        text-align: right;\n",
       "    }\n",
       "</style>\n",
       "<table border=\"1\" class=\"dataframe\">\n",
       "  <thead>\n",
       "    <tr style=\"text-align: right;\">\n",
       "      <th></th>\n",
       "      <th>geohash6</th>\n",
       "      <th>day</th>\n",
       "      <th>demand</th>\n",
       "      <th>latitude</th>\n",
       "      <th>longitude</th>\n",
       "      <th>latitude_error</th>\n",
       "      <th>longitude_error</th>\n",
       "      <th>Hour</th>\n",
       "      <th>Minute</th>\n",
       "      <th>Period</th>\n",
       "    </tr>\n",
       "  </thead>\n",
       "  <tbody>\n",
       "    <tr>\n",
       "      <th>0</th>\n",
       "      <td>qp03wc</td>\n",
       "      <td>18</td>\n",
       "      <td>0.020072</td>\n",
       "      <td>-5.353088</td>\n",
       "      <td>90.653687</td>\n",
       "      <td>0.002747</td>\n",
       "      <td>0.005493</td>\n",
       "      <td>20</td>\n",
       "      <td>0</td>\n",
       "      <td>1712</td>\n",
       "    </tr>\n",
       "    <tr>\n",
       "      <th>1</th>\n",
       "      <td>qp03pn</td>\n",
       "      <td>10</td>\n",
       "      <td>0.024721</td>\n",
       "      <td>-5.413513</td>\n",
       "      <td>90.664673</td>\n",
       "      <td>0.002747</td>\n",
       "      <td>0.005493</td>\n",
       "      <td>14</td>\n",
       "      <td>30</td>\n",
       "      <td>922</td>\n",
       "    </tr>\n",
       "    <tr>\n",
       "      <th>2</th>\n",
       "      <td>qp09sw</td>\n",
       "      <td>9</td>\n",
       "      <td>0.102821</td>\n",
       "      <td>-5.325623</td>\n",
       "      <td>90.906372</td>\n",
       "      <td>0.002747</td>\n",
       "      <td>0.005493</td>\n",
       "      <td>6</td>\n",
       "      <td>15</td>\n",
       "      <td>793</td>\n",
       "    </tr>\n",
       "    <tr>\n",
       "      <th>3</th>\n",
       "      <td>qp0991</td>\n",
       "      <td>32</td>\n",
       "      <td>0.088755</td>\n",
       "      <td>-5.353088</td>\n",
       "      <td>90.752563</td>\n",
       "      <td>0.002747</td>\n",
       "      <td>0.005493</td>\n",
       "      <td>5</td>\n",
       "      <td>0</td>\n",
       "      <td>2996</td>\n",
       "    </tr>\n",
       "    <tr>\n",
       "      <th>4</th>\n",
       "      <td>qp090q</td>\n",
       "      <td>15</td>\n",
       "      <td>0.074468</td>\n",
       "      <td>-5.413513</td>\n",
       "      <td>90.719604</td>\n",
       "      <td>0.002747</td>\n",
       "      <td>0.005493</td>\n",
       "      <td>4</td>\n",
       "      <td>0</td>\n",
       "      <td>1360</td>\n",
       "    </tr>\n",
       "  </tbody>\n",
       "</table>\n",
       "</div>"
      ],
      "text/plain": [
       "  geohash6  day    demand  latitude  ...  longitude_error  Hour  Minute  Period\n",
       "0   qp03wc   18  0.020072 -5.353088  ...         0.005493    20       0    1712\n",
       "1   qp03pn   10  0.024721 -5.413513  ...         0.005493    14      30     922\n",
       "2   qp09sw    9  0.102821 -5.325623  ...         0.005493     6      15     793\n",
       "3   qp0991   32  0.088755 -5.353088  ...         0.005493     5       0    2996\n",
       "4   qp090q   15  0.074468 -5.413513  ...         0.005493     4       0    1360\n",
       "\n",
       "[5 rows x 10 columns]"
      ]
     },
     "execution_count": 5,
     "metadata": {
      "tags": []
     },
     "output_type": "execute_result"
    }
   ],
   "source": [
    "df.head()"
   ]
  },
  {
   "cell_type": "markdown",
   "metadata": {
    "colab_type": "text",
    "id": "wxHb4GUwG9z3"
   },
   "source": [
    "## **Baseline Model**"
   ]
  },
  {
   "cell_type": "markdown",
   "metadata": {
    "colab_type": "text",
    "id": "8C1yM6kyG9z4"
   },
   "source": [
    "**We will only use data from day 15 onwards so every data point has a previous full 14 day demand data. We would also split the dataset 80-20 for training and test set**"
   ]
  },
  {
   "cell_type": "code",
   "execution_count": null,
   "metadata": {
    "colab": {},
    "colab_type": "code",
    "id": "ojmXWLPzG9z5"
   },
   "outputs": [],
   "source": [
    "df = df[df['day'] >= 15]\n",
    "train_df, val_df = train_test_split(df, test_size=0.2, random_state=0)\n",
    "train_df = train_df.reset_index(drop=True, inplace=False)\n",
    "val_df = val_df.reset_index(drop=True, inplace=False)"
   ]
  },
  {
   "cell_type": "code",
   "execution_count": 7,
   "metadata": {
    "colab": {
     "base_uri": "https://localhost:8080/",
     "height": 34
    },
    "colab_type": "code",
    "executionInfo": {
     "elapsed": 9491,
     "status": "ok",
     "timestamp": 1560063711170,
     "user": {
      "displayName": "Peng Seng (BfE Data Analytics Director)",
      "photoUrl": "",
      "userId": "03000862672762938356"
     },
     "user_tz": -480
    },
    "id": "yfGX_cGiG9z-",
    "outputId": "1195a2c0-45d9-432b-95cf-7013f13f16e5"
   },
   "outputs": [
    {
     "data": {
      "text/plain": [
       "((2607932, 10), (651984, 10))"
      ]
     },
     "execution_count": 7,
     "metadata": {
      "tags": []
     },
     "output_type": "execute_result"
    }
   ],
   "source": [
    "train_df.shape, val_df.shape"
   ]
  },
  {
   "cell_type": "markdown",
   "metadata": {
    "colab_type": "text",
    "id": "CCLOLeOaG90E"
   },
   "source": [
    "In the baseline model, we will use the past hour, day and week aggregated demand as the input to a simple LSTM model."
   ]
  },
  {
   "cell_type": "code",
   "execution_count": null,
   "metadata": {
    "colab": {},
    "colab_type": "code",
    "id": "tOIOa0S1G90F"
   },
   "outputs": [],
   "source": [
    "def dayhourmin_to_period(day, hour, minute):\n",
    "    return ((day-1) * 24 * 4) + (hour * 4) + minute//15\n",
    "\n",
    "def period_to_dayhourmin(period):\n",
    "    day = period//96 + 1\n",
    "    hour = (period - (day-1) * 96)//4\n",
    "    minute = (period - ((day-1) * 96) - (hour*4)) * 15\n",
    "    return (day, hour, minute)\n",
    "\n",
    "def get_demand_from_period(df, geohash, period):\n",
    "    day, hour, minute = period_to_dayhourmin(period)\n",
    "    demand_queried = df[(df['geohash6'] == geohash) & (df['day'] == day)\n",
    "                & (df['Hour'] == hour) & (df['Minute'] == minute)]['demand'].values\n",
    "    if len(demand_queried) > 0:\n",
    "        return demand_queried[0]\n",
    "    else:\n",
    "        return 0\n",
    "    \n",
    "def get_past_demand(df, geohash, day, hour, minute, num_periods=24):\n",
    "    period = dayhourmin_to_period(day, hour, minute)\n",
    "    X = [get_demand_from_period(df, geohash, period - i) for i in range(1, num_periods + 1)] \\\n",
    "            + [get_demand_from_period(df, geohash, period - 96), get_demand_from_period(df, geohash, period - 96*7), get_demand_from_period(df, geohash, period - 96*14)]\n",
    "    return np.array(X)\n",
    "\n",
    "def get_future_demand(df, geohash, day, hour, minute, num_periods=5):\n",
    "    period = dayhourmin_to_period(day, hour, minute)\n",
    "    return np.array([get_demand_from_period(df, geohash, period + i) for i in range(num_periods)])"
   ]
  },
  {
   "cell_type": "code",
   "execution_count": 9,
   "metadata": {
    "colab": {
     "base_uri": "https://localhost:8080/",
     "height": 88
    },
    "colab_type": "code",
    "executionInfo": {
     "elapsed": 7637,
     "status": "ok",
     "timestamp": 1560063711807,
     "user": {
      "displayName": "Peng Seng (BfE Data Analytics Director)",
      "photoUrl": "",
      "userId": "03000862672762938356"
     },
     "user_tz": -480
    },
    "id": "vb8bHsMHG90J",
    "outputId": "c92f4ae1-6bef-440e-f7b6-f6b6a69c0cb7"
   },
   "outputs": [
    {
     "name": "stdout",
     "output_type": "stream",
     "text": [
      "WARNING:tensorflow:From /usr/local/lib/python3.6/dist-packages/tensorflow/python/ops/resource_variable_ops.py:642: colocate_with (from tensorflow.python.framework.ops) is deprecated and will be removed in a future version.\n",
      "Instructions for updating:\n",
      "Colocations handled automatically by placer.\n"
     ]
    }
   ],
   "source": [
    "def fc_layer(inputs, output_units, batch_norm=True):\n",
    "    net = tf.keras.layers.Dense(output_units)(inputs)\n",
    "    if batch_norm:\n",
    "        net = tf.keras.layers.BatchNormalization()(net)\n",
    "    net = tf.keras.layers.Activation('relu')(net)\n",
    "    return net\n",
    "\n",
    "def baseline_model():\n",
    "    _input = tf.keras.layers.Input(shape=(27,1))\n",
    "    net = tf.keras.layers.CuDNNLSTM(units=8)(_input)\n",
    "    #net = fc_layer(net, 16)\n",
    "    net = tf.keras.layers.BatchNormalization()(net)\n",
    "    net = tf.keras.layers.Activation('relu')(net)\n",
    "    net = tf.keras.layers.Dense(5, kernel_initializer='normal', activation='relu')(net)\n",
    "    model = tf.keras.models.Model(inputs=_input, outputs=net)\n",
    "    return model\n",
    "\n",
    "model = baseline_model()\n",
    "\n",
    "def root_mean_squared_error(y_true, y_pred):\n",
    "    return K.sqrt(K.mean(K.square(y_pred - y_true), axis=-1))\n",
    "\n",
    "model.compile(optimizer = \"rmsprop\", loss = root_mean_squared_error, \n",
    "              metrics =[\"mean_squared_error\"])"
   ]
  },
  {
   "cell_type": "code",
   "execution_count": 10,
   "metadata": {
    "colab": {
     "base_uri": "https://localhost:8080/",
     "height": 306
    },
    "colab_type": "code",
    "executionInfo": {
     "elapsed": 6017,
     "status": "ok",
     "timestamp": 1560063711812,
     "user": {
      "displayName": "Peng Seng (BfE Data Analytics Director)",
      "photoUrl": "",
      "userId": "03000862672762938356"
     },
     "user_tz": -480
    },
    "id": "axHPx8yWG90Q",
    "outputId": "53c567d0-e08d-48bf-d304-0be1ffeaa1aa"
   },
   "outputs": [
    {
     "name": "stdout",
     "output_type": "stream",
     "text": [
      "_________________________________________________________________\n",
      "Layer (type)                 Output Shape              Param #   \n",
      "=================================================================\n",
      "input_1 (InputLayer)         (None, 27, 1)             0         \n",
      "_________________________________________________________________\n",
      "cu_dnnlstm (CuDNNLSTM)       (None, 8)                 352       \n",
      "_________________________________________________________________\n",
      "batch_normalization_v1 (Batc (None, 8)                 32        \n",
      "_________________________________________________________________\n",
      "activation (Activation)      (None, 8)                 0         \n",
      "_________________________________________________________________\n",
      "dense (Dense)                (None, 5)                 45        \n",
      "=================================================================\n",
      "Total params: 429\n",
      "Trainable params: 413\n",
      "Non-trainable params: 16\n",
      "_________________________________________________________________\n"
     ]
    }
   ],
   "source": [
    "model.summary()"
   ]
  },
  {
   "cell_type": "code",
   "execution_count": null,
   "metadata": {
    "colab": {},
    "colab_type": "code",
    "id": "utwryLm0G90Z"
   },
   "outputs": [],
   "source": [
    "\n",
    "def data_gen(typ, batch_size, past_periods=27):\n",
    "    import time\n",
    "    if typ == 'train':\n",
    "        df = train_df\n",
    "    elif typ == 'val':\n",
    "        df = val_df\n",
    "    max_rows = len(df)\n",
    "    while True:\n",
    "        past_demands = np.zeros((batch_size, past_periods))\n",
    "        future_demands = np.zeros((batch_size, 5))\n",
    "        rows = np.random.choice(a=max_rows, size=batch_size, replace=False)\n",
    "        for i in range(len(rows)):\n",
    "            row = rows[i]\n",
    "            geohash = df.loc[row, 'geohash6']\n",
    "            day = df.loc[row, 'day']\n",
    "            hour = df.loc[row, 'Hour']\n",
    "            minute = df.loc[row, 'Minute']\n",
    "            past_demands[i] = get_past_demand(df, geohash, day, hour, minute)\n",
    "            future_demands[i] = get_future_demand(df, geohash, day, hour, minute)\n",
    "        yield np.reshape(past_demands, (batch_size, past_periods,1)), future_demands\n"
   ]
  },
  {
   "cell_type": "code",
   "execution_count": 12,
   "metadata": {
    "colab": {
     "base_uri": "https://localhost:8080/",
     "height": 190
    },
    "colab_type": "code",
    "executionInfo": {
     "elapsed": 1324721,
     "status": "ok",
     "timestamp": 1560065039726,
     "user": {
      "displayName": "Peng Seng (BfE Data Analytics Director)",
      "photoUrl": "",
      "userId": "03000862672762938356"
     },
     "user_tz": -480
    },
    "id": "QGvRJdQlG90f",
    "outputId": "07218040-d63e-4237-bf64-61b4c0c475d0"
   },
   "outputs": [
    {
     "name": "stdout",
     "output_type": "stream",
     "text": [
      "Epoch 1/2\n",
      "WARNING:tensorflow:From /usr/local/lib/python3.6/dist-packages/tensorflow/python/ops/math_ops.py:3066: to_int32 (from tensorflow.python.ops.math_ops) is deprecated and will be removed in a future version.\n",
      "Instructions for updating:\n",
      "Use tf.cast instead.\n",
      "20/20 [==============================] - 315s 16s/step - loss: 0.0528 - mean_squared_error: 0.0119\n",
      "20/20 [==============================] - 761s 38s/step - loss: 0.0697 - mean_squared_error: 0.0143 - val_loss: 0.0528 - val_mean_squared_error: 0.0119\n",
      "Epoch 2/2\n",
      "20/20 [==============================] - 316s 16s/step - loss: 0.0565 - mean_squared_error: 0.0086\n",
      "20/20 [==============================] - 563s 28s/step - loss: 0.0821 - mean_squared_error: 0.0236 - val_loss: 0.0565 - val_mean_squared_error: 0.0086\n"
     ]
    }
   ],
   "source": [
    "train_gen = data_gen('train', batch_size=4)\n",
    "val_gen = data_gen('val', batch_size=4)\n",
    "\n",
    "# train_gen = DataGenerator(df=train_df)\n",
    "# val_gen = DataGenerator(df=val_df)\n",
    "num_epochs = 2\n",
    "base_lr = 0.001\n",
    "\n",
    "\n",
    "def lr_linear_decay(epoch):\n",
    "    return (base_lr * (1 - (epoch/num_epochs)))\n",
    "\n",
    "history = model.fit_generator(generator=train_gen,\n",
    "                              validation_data=val_gen,\n",
    "                              steps_per_epoch=20,\n",
    "                              validation_steps=20,\n",
    "                              max_queue_size=10,\n",
    "                              epochs=num_epochs,\n",
    "                              verbose=1)"
   ]
  },
  {
   "cell_type": "code",
   "execution_count": 13,
   "metadata": {
    "colab": {
     "base_uri": "https://localhost:8080/",
     "height": 51
    },
    "colab_type": "code",
    "executionInfo": {
     "elapsed": 4461,
     "status": "ok",
     "timestamp": 1560065078013,
     "user": {
      "displayName": "Peng Seng (BfE Data Analytics Director)",
      "photoUrl": "",
      "userId": "03000862672762938356"
     },
     "user_tz": -480
    },
    "id": "qeXWqb8YG90m",
    "outputId": "d13f34e5-3242-4915-cec5-f66c2f697640"
   },
   "outputs": [
    {
     "data": {
      "text/plain": [
       "array([[0.027203  , 0.0164283 , 0.01745857, 0.01381193, 0.01533502]],\n",
       "      dtype=float32)"
      ]
     },
     "execution_count": 13,
     "metadata": {
      "tags": []
     },
     "output_type": "execute_result"
    }
   ],
   "source": [
    "lat = -5.331116\n",
    "long = 90.631714\n",
    "day=24\n",
    "hour=22\n",
    "minute=0\n",
    "feat = get_past_demand(df, geohash2.encode(lat,long), day, hour, minute)\n",
    "model.predict(np.reshape(feat, (-1,27,1)))"
   ]
  },
  {
   "cell_type": "code",
   "execution_count": 14,
   "metadata": {
    "colab": {
     "base_uri": "https://localhost:8080/",
     "height": 34
    },
    "colab_type": "code",
    "executionInfo": {
     "elapsed": 1152,
     "status": "ok",
     "timestamp": 1560065082182,
     "user": {
      "displayName": "Peng Seng (BfE Data Analytics Director)",
      "photoUrl": "",
      "userId": "03000862672762938356"
     },
     "user_tz": -480
    },
    "id": "5UDoylztG90r",
    "outputId": "0326ab4a-5dc0-4bd5-914a-455313ba8117"
   },
   "outputs": [
    {
     "data": {
      "text/plain": [
       "<tf.Tensor: id=1751, shape=(), dtype=float64, numpy=0.01865811462276602>"
      ]
     },
     "execution_count": 14,
     "metadata": {
      "tags": []
     },
     "output_type": "execute_result"
    }
   ],
   "source": [
    "cor_demand = get_future_demand(df, geohash2.encode(lat,long), day, hour, minute)\n",
    "root_mean_squared_error(cor_demand, model.predict(np.reshape(feat, (-1,27,1)))[0])"
   ]
  },
  {
   "cell_type": "code",
   "execution_count": null,
   "metadata": {
    "colab": {},
    "colab_type": "code",
    "id": "5hDIJ2pLG90x"
   },
   "outputs": [],
   "source": []
  }
 ],
 "metadata": {
  "accelerator": "GPU",
  "colab": {
   "collapsed_sections": [],
   "name": "2) Baseline_Model.ipynb",
   "provenance": [],
   "version": "0.3.2"
  },
  "kernelspec": {
   "display_name": "Python 3",
   "language": "python",
   "name": "python3"
  },
  "language_info": {
   "codemirror_mode": {
    "name": "ipython",
    "version": 3
   },
   "file_extension": ".py",
   "mimetype": "text/x-python",
   "name": "python",
   "nbconvert_exporter": "python",
   "pygments_lexer": "ipython3",
   "version": "3.7.3"
  }
 },
 "nbformat": 4,
 "nbformat_minor": 2
}
